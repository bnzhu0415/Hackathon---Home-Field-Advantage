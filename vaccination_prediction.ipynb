{
  "nbformat": 4,
  "nbformat_minor": 0,
  "metadata": {
    "colab": {
      "name": "vaccination-prediction.ipynb",
      "provenance": [],
      "collapsed_sections": []
    },
    "kernelspec": {
      "name": "python3",
      "display_name": "Python 3"
    },
    "language_info": {
      "name": "python"
    }
  },
  "cells": [
    {
      "cell_type": "markdown",
      "metadata": {
        "id": "tal8OOsViOuv"
      },
      "source": [
        "California, Oregon, Arizona, Texas, Colorado, Illinois, Florida, Georgia, North Carolina, Pennsylvania"
      ]
    },
    {
      "cell_type": "markdown",
      "metadata": {
        "id": "j7GbI-h8qK0a"
      },
      "source": [
        "Ohio, Massachusetts, Michigan, Minnesota, Wisconsin, New York, Utah, Indiana, Louisiana, Oklahoma, Tennessee"
      ]
    },
    {
      "cell_type": "code",
      "metadata": {
        "id": "NEe9Eyc8hVwP",
        "colab": {
          "base_uri": "https://localhost:8080/"
        },
        "outputId": "e9a975e1-2b52-493f-f9c6-51adecf34bb5"
      },
      "source": [
        "! pip install pmdarima==1.8.0"
      ],
      "execution_count": null,
      "outputs": [
        {
          "output_type": "stream",
          "text": [
            "Collecting pmdarima==1.8.0\n",
            "\u001b[?25l  Downloading https://files.pythonhosted.org/packages/e4/a8/bdf15174e35d072e145d16388b1d3bc7605b752610170cb022a290411427/pmdarima-1.8.0-cp37-cp37m-manylinux1_x86_64.whl (1.5MB)\n",
            "\u001b[K     |████████████████████████████████| 1.5MB 6.0MB/s \n",
            "\u001b[?25hRequirement already satisfied: scipy>=1.3.2 in /usr/local/lib/python3.7/dist-packages (from pmdarima==1.8.0) (1.4.1)\n",
            "Collecting statsmodels!=0.12.0,>=0.11\n",
            "\u001b[?25l  Downloading https://files.pythonhosted.org/packages/da/69/8eef30a6237c54f3c0b524140e2975f4b1eea3489b45eb3339574fc8acee/statsmodels-0.12.2-cp37-cp37m-manylinux1_x86_64.whl (9.5MB)\n",
            "\u001b[K     |████████████████████████████████| 9.5MB 16.5MB/s \n",
            "\u001b[?25hRequirement already satisfied: scikit-learn>=0.22 in /usr/local/lib/python3.7/dist-packages (from pmdarima==1.8.0) (0.22.2.post1)\n",
            "Requirement already satisfied: urllib3 in /usr/local/lib/python3.7/dist-packages (from pmdarima==1.8.0) (1.24.3)\n",
            "Requirement already satisfied: pandas>=0.19 in /usr/local/lib/python3.7/dist-packages (from pmdarima==1.8.0) (1.1.5)\n",
            "Collecting Cython<0.29.18,>=0.29\n",
            "\u001b[?25l  Downloading https://files.pythonhosted.org/packages/dc/6c/198da24bf0a1d5b5ee6119e891c5300bb1b0b8904832fac9ff62d4e381c9/Cython-0.29.17-cp37-cp37m-manylinux1_x86_64.whl (2.1MB)\n",
            "\u001b[K     |████████████████████████████████| 2.1MB 39.7MB/s \n",
            "\u001b[?25hRequirement already satisfied: joblib>=0.11 in /usr/local/lib/python3.7/dist-packages (from pmdarima==1.8.0) (1.0.1)\n",
            "Requirement already satisfied: numpy>=1.17.3 in /usr/local/lib/python3.7/dist-packages (from pmdarima==1.8.0) (1.19.5)\n",
            "Requirement already satisfied: setuptools!=50.0.0,>=38.6.0 in /usr/local/lib/python3.7/dist-packages (from pmdarima==1.8.0) (54.2.0)\n",
            "Requirement already satisfied: patsy>=0.5 in /usr/local/lib/python3.7/dist-packages (from statsmodels!=0.12.0,>=0.11->pmdarima==1.8.0) (0.5.1)\n",
            "Requirement already satisfied: pytz>=2017.2 in /usr/local/lib/python3.7/dist-packages (from pandas>=0.19->pmdarima==1.8.0) (2018.9)\n",
            "Requirement already satisfied: python-dateutil>=2.7.3 in /usr/local/lib/python3.7/dist-packages (from pandas>=0.19->pmdarima==1.8.0) (2.8.1)\n",
            "Requirement already satisfied: six in /usr/local/lib/python3.7/dist-packages (from patsy>=0.5->statsmodels!=0.12.0,>=0.11->pmdarima==1.8.0) (1.15.0)\n",
            "Installing collected packages: statsmodels, Cython, pmdarima\n",
            "  Found existing installation: statsmodels 0.10.2\n",
            "    Uninstalling statsmodels-0.10.2:\n",
            "      Successfully uninstalled statsmodels-0.10.2\n",
            "  Found existing installation: Cython 0.29.22\n",
            "    Uninstalling Cython-0.29.22:\n",
            "      Successfully uninstalled Cython-0.29.22\n",
            "Successfully installed Cython-0.29.17 pmdarima-1.8.0 statsmodels-0.12.2\n"
          ],
          "name": "stdout"
        }
      ]
    },
    {
      "cell_type": "code",
      "metadata": {
        "id": "pwC1YaOphf8L"
      },
      "source": [
        "import pandas as pd\n",
        "import numpy as np\n",
        "from pmdarima.arima import auto_arima\n",
        "import matplotlib.pyplot as plt"
      ],
      "execution_count": null,
      "outputs": []
    },
    {
      "cell_type": "code",
      "metadata": {
        "id": "9cQoSeh1hf-r"
      },
      "source": [
        "#load vaccination data and population data \n",
        "data = pd.read_csv('/content/us_state_vaccinations.csv')\n",
        "population_data = pd.read_csv('/content/csvData.csv')"
      ],
      "execution_count": null,
      "outputs": []
    },
    {
      "cell_type": "code",
      "metadata": {
        "colab": {
          "base_uri": "https://localhost:8080/"
        },
        "id": "DakMVjq3hgBB",
        "outputId": "8add1005-9efc-4aed-b810-189140372999"
      },
      "source": [
        "#get population for desired state\n",
        "population = population_data[['State', 'Pop']]\n",
        "pop_state = population[population['State'] == 'New York']\n",
        "state_pop = pop_state['Pop'].iloc[0]\n",
        "state_pop"
      ],
      "execution_count": null,
      "outputs": [
        {
          "output_type": "execute_result",
          "data": {
            "text/plain": [
              "19300000"
            ]
          },
          "metadata": {
            "tags": []
          },
          "execution_count": 7
        }
      ]
    },
    {
      "cell_type": "code",
      "metadata": {
        "colab": {
          "base_uri": "https://localhost:8080/"
        },
        "id": "z2xD3Is4hgEV",
        "outputId": "1e381009-ecb8-49da-8510-8a62dec4f353"
      },
      "source": [
        "#get desired vaccination data for certain state, convert date to standard datetime, and set date as index\n",
        "california = data[data['location'] == 'New York State']\n",
        "california['date'] = pd.to_datetime(california['date'])\n",
        "california.set_index('date', inplace = True)"
      ],
      "execution_count": null,
      "outputs": [
        {
          "output_type": "stream",
          "text": [
            "/usr/local/lib/python3.7/dist-packages/ipykernel_launcher.py:3: SettingWithCopyWarning: \n",
            "A value is trying to be set on a copy of a slice from a DataFrame.\n",
            "Try using .loc[row_indexer,col_indexer] = value instead\n",
            "\n",
            "See the caveats in the documentation: https://pandas.pydata.org/pandas-docs/stable/user_guide/indexing.html#returning-a-view-versus-a-copy\n",
            "  This is separate from the ipykernel package so we can avoid doing imports until\n"
          ],
          "name": "stderr"
        }
      ]
    },
    {
      "cell_type": "code",
      "metadata": {
        "colab": {
          "base_uri": "https://localhost:8080/"
        },
        "id": "55HKIL4Lhp2a",
        "outputId": "a279041c-25a4-46f8-8846-e5665d8ec45c"
      },
      "source": [
        "#take number of people who are fully vaccinated\n",
        "california2 = california[['people_fully_vaccinated']]\n",
        "\n",
        "#drop NaN, change data type to integer \n",
        "california3 = california2.dropna()\n",
        "california3['people_fully_vaccinated'] = california3['people_fully_vaccinated'].astype(int)"
      ],
      "execution_count": null,
      "outputs": [
        {
          "output_type": "stream",
          "text": [
            "/usr/local/lib/python3.7/dist-packages/ipykernel_launcher.py:6: SettingWithCopyWarning: \n",
            "A value is trying to be set on a copy of a slice from a DataFrame.\n",
            "Try using .loc[row_indexer,col_indexer] = value instead\n",
            "\n",
            "See the caveats in the documentation: https://pandas.pydata.org/pandas-docs/stable/user_guide/indexing.html#returning-a-view-versus-a-copy\n",
            "  \n"
          ],
          "name": "stderr"
        }
      ]
    },
    {
      "cell_type": "code",
      "metadata": {
        "id": "VxxwSAwthtSt"
      },
      "source": [
        "#build auto.arima model\n",
        "y = california3['people_fully_vaccinated']\n",
        "arima_model2 = auto_arima(y)\n",
        "#arima_model2.summary()"
      ],
      "execution_count": null,
      "outputs": []
    },
    {
      "cell_type": "code",
      "metadata": {
        "colab": {
          "base_uri": "https://localhost:8080/",
          "height": 411
        },
        "id": "oRXOd7A9htV1",
        "outputId": "cdb1f2f6-6eb4-48b8-8ab0-8e16321d6f9b"
      },
      "source": [
        "#make prediction \n",
        "import pandas as pd\n",
        "from datetime import datetime\n",
        "\n",
        "\n",
        "datelist = pd.DataFrame(pd.date_range(start=\"2021-04-15\", periods=150).tolist())\n",
        "prediction2 = pd.DataFrame(arima_model2.predict(n_periods = 150))\n",
        "prediction2.columns = ['predicted total num of vaccination']\n",
        "prediction2['predicted total num of vaccination'] = round(prediction2['predicted total num of vaccination']).astype(int)\n",
        "\n",
        "df_final = pd.concat([datelist, prediction2], axis=1)\n",
        "df_final.columns = ['date','people_fully_vaccinated']\n",
        "df_final.set_index('date', inplace = True)\n",
        "\n",
        "final = pd.concat([california3,df_final])\n",
        "final['people_fully_vaccinated'] = final['people_fully_vaccinated'].astype(int)\n",
        "final['percentage'] = final['people_fully_vaccinated'] / state_pop\n",
        "\n",
        "#add state name\n",
        "state = pd.DataFrame(['New York'] * len(final))\n",
        "final.reset_index(drop=False, inplace=True)\n",
        "state.reset_index(drop=True, inplace=True)\n",
        "\n",
        "df = pd.concat( [final, state], axis=1) \n",
        "df.columns = ['Date','people_fully_vaccinated','Percentage','State']\n",
        "\n",
        "df"
      ],
      "execution_count": null,
      "outputs": [
        {
          "output_type": "execute_result",
          "data": {
            "text/html": [
              "<div>\n",
              "<style scoped>\n",
              "    .dataframe tbody tr th:only-of-type {\n",
              "        vertical-align: middle;\n",
              "    }\n",
              "\n",
              "    .dataframe tbody tr th {\n",
              "        vertical-align: top;\n",
              "    }\n",
              "\n",
              "    .dataframe thead th {\n",
              "        text-align: right;\n",
              "    }\n",
              "</style>\n",
              "<table border=\"1\" class=\"dataframe\">\n",
              "  <thead>\n",
              "    <tr style=\"text-align: right;\">\n",
              "      <th></th>\n",
              "      <th>Date</th>\n",
              "      <th>people_fully_vaccinated</th>\n",
              "      <th>Percentage</th>\n",
              "      <th>State</th>\n",
              "    </tr>\n",
              "  </thead>\n",
              "  <tbody>\n",
              "    <tr>\n",
              "      <th>0</th>\n",
              "      <td>2021-01-12</td>\n",
              "      <td>36422</td>\n",
              "      <td>0.001887</td>\n",
              "      <td>New York</td>\n",
              "    </tr>\n",
              "    <tr>\n",
              "      <th>1</th>\n",
              "      <td>2021-01-13</td>\n",
              "      <td>44512</td>\n",
              "      <td>0.002306</td>\n",
              "      <td>New York</td>\n",
              "    </tr>\n",
              "    <tr>\n",
              "      <th>2</th>\n",
              "      <td>2021-01-15</td>\n",
              "      <td>73523</td>\n",
              "      <td>0.003809</td>\n",
              "      <td>New York</td>\n",
              "    </tr>\n",
              "    <tr>\n",
              "      <th>3</th>\n",
              "      <td>2021-01-19</td>\n",
              "      <td>102187</td>\n",
              "      <td>0.005295</td>\n",
              "      <td>New York</td>\n",
              "    </tr>\n",
              "    <tr>\n",
              "      <th>4</th>\n",
              "      <td>2021-01-20</td>\n",
              "      <td>106821</td>\n",
              "      <td>0.005535</td>\n",
              "      <td>New York</td>\n",
              "    </tr>\n",
              "    <tr>\n",
              "      <th>...</th>\n",
              "      <td>...</td>\n",
              "      <td>...</td>\n",
              "      <td>...</td>\n",
              "      <td>...</td>\n",
              "    </tr>\n",
              "    <tr>\n",
              "      <th>233</th>\n",
              "      <td>2021-09-07</td>\n",
              "      <td>21854035</td>\n",
              "      <td>1.132333</td>\n",
              "      <td>New York</td>\n",
              "    </tr>\n",
              "    <tr>\n",
              "      <th>234</th>\n",
              "      <td>2021-09-08</td>\n",
              "      <td>21968530</td>\n",
              "      <td>1.138266</td>\n",
              "      <td>New York</td>\n",
              "    </tr>\n",
              "    <tr>\n",
              "      <th>235</th>\n",
              "      <td>2021-09-09</td>\n",
              "      <td>22083024</td>\n",
              "      <td>1.144198</td>\n",
              "      <td>New York</td>\n",
              "    </tr>\n",
              "    <tr>\n",
              "      <th>236</th>\n",
              "      <td>2021-09-10</td>\n",
              "      <td>22197518</td>\n",
              "      <td>1.150130</td>\n",
              "      <td>New York</td>\n",
              "    </tr>\n",
              "    <tr>\n",
              "      <th>237</th>\n",
              "      <td>2021-09-11</td>\n",
              "      <td>22312013</td>\n",
              "      <td>1.156063</td>\n",
              "      <td>New York</td>\n",
              "    </tr>\n",
              "  </tbody>\n",
              "</table>\n",
              "<p>238 rows × 4 columns</p>\n",
              "</div>"
            ],
            "text/plain": [
              "          Date  people_fully_vaccinated  Percentage     State\n",
              "0   2021-01-12                    36422    0.001887  New York\n",
              "1   2021-01-13                    44512    0.002306  New York\n",
              "2   2021-01-15                    73523    0.003809  New York\n",
              "3   2021-01-19                   102187    0.005295  New York\n",
              "4   2021-01-20                   106821    0.005535  New York\n",
              "..         ...                      ...         ...       ...\n",
              "233 2021-09-07                 21854035    1.132333  New York\n",
              "234 2021-09-08                 21968530    1.138266  New York\n",
              "235 2021-09-09                 22083024    1.144198  New York\n",
              "236 2021-09-10                 22197518    1.150130  New York\n",
              "237 2021-09-11                 22312013    1.156063  New York\n",
              "\n",
              "[238 rows x 4 columns]"
            ]
          },
          "metadata": {
            "tags": []
          },
          "execution_count": 11
        }
      ]
    },
    {
      "cell_type": "code",
      "metadata": {
        "colab": {
          "base_uri": "https://localhost:8080/"
        },
        "id": "ur65cqkwhtYr",
        "outputId": "9fda4bbe-9b9b-4d1e-ba3d-1ba0dc62135e"
      },
      "source": [
        "#save to csv file\n",
        "from google.colab import drive\n",
        "drive.mount('/content/drive')\n",
        "df.to_csv('/content/drive/Shareddrives/The Data Collective/Vaccination Forecast/forecast_file_with_state/NewYork.csv')\n"
      ],
      "execution_count": null,
      "outputs": [
        {
          "output_type": "stream",
          "text": [
            "Mounted at /content/drive\n"
          ],
          "name": "stdout"
        }
      ]
    },
    {
      "cell_type": "code",
      "metadata": {
        "id": "IOcTYpRyjSsk"
      },
      "source": [
        ""
      ],
      "execution_count": null,
      "outputs": []
    },
    {
      "cell_type": "code",
      "metadata": {
        "id": "8kS8NaRnjS0Z"
      },
      "source": [
        ""
      ],
      "execution_count": null,
      "outputs": []
    },
    {
      "cell_type": "markdown",
      "metadata": {
        "id": "LG76RU-ZdAen"
      },
      "source": [
        "Read all csv file and compile into a single file"
      ]
    },
    {
      "cell_type": "code",
      "metadata": {
        "id": "bzc_J0rxc-6h"
      },
      "source": [
        "import pandas as pd\n",
        "import glob\n",
        "\n",
        "path = r'/content/drive/Shareddrives/The Data Collective/Vaccination Forecast/forecast_file_with_state' # use your path\n",
        "all_files = glob.glob(path + \"/*.csv\")\n",
        "\n",
        "li = []\n",
        "\n",
        "for filename in all_files:\n",
        "    df = pd.read_csv(filename, index_col=None, header=0)\n",
        "    li.append(df)\n",
        "\n",
        "frame = pd.concat(li, axis=0, ignore_index=True)"
      ],
      "execution_count": null,
      "outputs": []
    },
    {
      "cell_type": "code",
      "metadata": {
        "colab": {
          "base_uri": "https://localhost:8080/",
          "height": 411
        },
        "id": "8m9BeHfEi18F",
        "outputId": "d2712843-04c5-4a41-da1b-61c2ffedc3c7"
      },
      "source": [
        "frame = frame.drop(columns=['Unnamed: 0'])\n",
        "frame"
      ],
      "execution_count": null,
      "outputs": [
        {
          "output_type": "execute_result",
          "data": {
            "text/html": [
              "<div>\n",
              "<style scoped>\n",
              "    .dataframe tbody tr th:only-of-type {\n",
              "        vertical-align: middle;\n",
              "    }\n",
              "\n",
              "    .dataframe tbody tr th {\n",
              "        vertical-align: top;\n",
              "    }\n",
              "\n",
              "    .dataframe thead th {\n",
              "        text-align: right;\n",
              "    }\n",
              "</style>\n",
              "<table border=\"1\" class=\"dataframe\">\n",
              "  <thead>\n",
              "    <tr style=\"text-align: right;\">\n",
              "      <th></th>\n",
              "      <th>Date</th>\n",
              "      <th>people_fully_vaccinated</th>\n",
              "      <th>Percentage</th>\n",
              "      <th>State</th>\n",
              "    </tr>\n",
              "  </thead>\n",
              "  <tbody>\n",
              "    <tr>\n",
              "      <th>0</th>\n",
              "      <td>2021-01-12</td>\n",
              "      <td>10591</td>\n",
              "      <td>0.000827</td>\n",
              "      <td>Pennsylvania</td>\n",
              "    </tr>\n",
              "    <tr>\n",
              "      <th>1</th>\n",
              "      <td>2021-01-13</td>\n",
              "      <td>18051</td>\n",
              "      <td>0.001410</td>\n",
              "      <td>Pennsylvania</td>\n",
              "    </tr>\n",
              "    <tr>\n",
              "      <th>2</th>\n",
              "      <td>2021-01-15</td>\n",
              "      <td>66941</td>\n",
              "      <td>0.005228</td>\n",
              "      <td>Pennsylvania</td>\n",
              "    </tr>\n",
              "    <tr>\n",
              "      <th>3</th>\n",
              "      <td>2021-01-19</td>\n",
              "      <td>79526</td>\n",
              "      <td>0.006211</td>\n",
              "      <td>Pennsylvania</td>\n",
              "    </tr>\n",
              "    <tr>\n",
              "      <th>4</th>\n",
              "      <td>2021-01-20</td>\n",
              "      <td>85290</td>\n",
              "      <td>0.006661</td>\n",
              "      <td>Pennsylvania</td>\n",
              "    </tr>\n",
              "    <tr>\n",
              "      <th>...</th>\n",
              "      <td>...</td>\n",
              "      <td>...</td>\n",
              "      <td>...</td>\n",
              "      <td>...</td>\n",
              "    </tr>\n",
              "    <tr>\n",
              "      <th>4991</th>\n",
              "      <td>2021-09-07</td>\n",
              "      <td>21854035</td>\n",
              "      <td>1.132333</td>\n",
              "      <td>New York</td>\n",
              "    </tr>\n",
              "    <tr>\n",
              "      <th>4992</th>\n",
              "      <td>2021-09-08</td>\n",
              "      <td>21968530</td>\n",
              "      <td>1.138266</td>\n",
              "      <td>New York</td>\n",
              "    </tr>\n",
              "    <tr>\n",
              "      <th>4993</th>\n",
              "      <td>2021-09-09</td>\n",
              "      <td>22083024</td>\n",
              "      <td>1.144198</td>\n",
              "      <td>New York</td>\n",
              "    </tr>\n",
              "    <tr>\n",
              "      <th>4994</th>\n",
              "      <td>2021-09-10</td>\n",
              "      <td>22197518</td>\n",
              "      <td>1.150130</td>\n",
              "      <td>New York</td>\n",
              "    </tr>\n",
              "    <tr>\n",
              "      <th>4995</th>\n",
              "      <td>2021-09-11</td>\n",
              "      <td>22312013</td>\n",
              "      <td>1.156063</td>\n",
              "      <td>New York</td>\n",
              "    </tr>\n",
              "  </tbody>\n",
              "</table>\n",
              "<p>4996 rows × 4 columns</p>\n",
              "</div>"
            ],
            "text/plain": [
              "            Date  people_fully_vaccinated  Percentage         State\n",
              "0     2021-01-12                    10591    0.000827  Pennsylvania\n",
              "1     2021-01-13                    18051    0.001410  Pennsylvania\n",
              "2     2021-01-15                    66941    0.005228  Pennsylvania\n",
              "3     2021-01-19                    79526    0.006211  Pennsylvania\n",
              "4     2021-01-20                    85290    0.006661  Pennsylvania\n",
              "...          ...                      ...         ...           ...\n",
              "4991  2021-09-07                 21854035    1.132333      New York\n",
              "4992  2021-09-08                 21968530    1.138266      New York\n",
              "4993  2021-09-09                 22083024    1.144198      New York\n",
              "4994  2021-09-10                 22197518    1.150130      New York\n",
              "4995  2021-09-11                 22312013    1.156063      New York\n",
              "\n",
              "[4996 rows x 4 columns]"
            ]
          },
          "metadata": {
            "tags": []
          },
          "execution_count": 16
        }
      ]
    },
    {
      "cell_type": "code",
      "metadata": {
        "colab": {
          "base_uri": "https://localhost:8080/"
        },
        "id": "2KTtt-hxjRPN",
        "outputId": "a100030c-5a34-40a6-c4d3-c0a265ed35ba"
      },
      "source": [
        "#save to csv file\n",
        "from google.colab import drive\n",
        "drive.mount('/content/drive')\n",
        "frame.to_csv('/content/drive/Shareddrives/The Data Collective/Dataset/20state.csv', index = False)"
      ],
      "execution_count": null,
      "outputs": [
        {
          "output_type": "stream",
          "text": [
            "Drive already mounted at /content/drive; to attempt to forcibly remount, call drive.mount(\"/content/drive\", force_remount=True).\n"
          ],
          "name": "stdout"
        }
      ]
    }
  ]
}