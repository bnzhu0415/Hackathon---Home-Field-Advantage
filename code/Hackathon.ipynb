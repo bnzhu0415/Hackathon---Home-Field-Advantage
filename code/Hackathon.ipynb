{
 "cells": [
  {
   "cell_type": "markdown",
   "metadata": {},
   "source": [
    "## This Program gathers information for various sports that will be used to find the effect fans in thhe stands have on winning"
   ]
  },
  {
   "cell_type": "markdown",
   "metadata": {},
   "source": [
    "#### Global Imports"
   ]
  },
  {
   "cell_type": "code",
   "execution_count": null,
   "metadata": {},
   "outputs": [],
   "source": [
    "import pandas as pd\n",
    "import numpy as np\n",
    "from datetime import datetime"
   ]
  },
  {
   "cell_type": "markdown",
   "metadata": {},
   "source": [
    "# Basketball"
   ]
  },
  {
   "cell_type": "markdown",
   "metadata": {},
   "source": [
    "## Imports"
   ]
  },
  {
   "cell_type": "code",
   "execution_count": null,
   "metadata": {},
   "outputs": [],
   "source": [
    "from basketball_reference_scraper.teams import get_roster, get_team_stats, get_opp_stats, get_roster_stats, get_team_misc\n",
    "from basketball_reference_scraper.seasons import get_schedule, get_standings"
   ]
  },
  {
   "cell_type": "markdown",
   "metadata": {},
   "source": [
    "## Gathering Data"
   ]
  },
  {
   "cell_type": "code",
   "execution_count": null,
   "metadata": {
    "code_folding": [
     2,
     36
    ]
   },
   "outputs": [],
   "source": [
    "# Dicts that will be used to go between team names and acronyms. Useful for the API being used\n",
    "\n",
    "team_to_acronym = {'Atlanta Hawks': 'ATL',\n",
    " 'Boston Celtics': 'BOS',\n",
    " 'Brooklyn Nets': 'NJN',\n",
    " 'New Jersey Nets': 'NJN',\n",
    " 'Chicago Bulls': 'CHI',\n",
    " 'Charlotte Hornets (2014-present)': 'CHO',\n",
    " 'Charlotte Bobcats': 'CHA',\n",
    " 'Cleveland Cavaliers': 'CLE',\n",
    " 'Dallas Mavericks': 'DAL',\n",
    " 'Denver Nuggets': 'DEN',\n",
    " 'Detroit Pistons': 'DET',\n",
    " 'Golden State Warriors': 'GSW',\n",
    " 'Houston Rockets': 'HOU',\n",
    " 'Indiana Pacers': 'IND',\n",
    " 'Los Angeles Clippers': 'LAC',\n",
    " 'Los Angeles Lakers': 'LAL',\n",
    " 'Memphis Grizzlies': 'MEM',\n",
    " 'Miami Heat': 'MIA',\n",
    " 'Milwaukee Bucks': 'MIL',\n",
    " 'Minnesota Timberwolves': 'MIN',\n",
    " 'New Orleans Pelicans': 'NOP',\n",
    " 'New Orleans Hornets': 'NOH',\n",
    " 'New York Knicks': 'NYK',\n",
    " 'Oklahoma City Thunder': 'OKC',\n",
    " 'Orlando Magic': 'ORL',\n",
    " 'Philadelphia 76ers': 'PHI',\n",
    " 'Phoenix Suns': 'PHO',\n",
    " 'Portland Trail Blazers': 'POR',\n",
    " 'Sacramento Kings': 'SAC',\n",
    " 'San Antonio Spurs': 'SAS',\n",
    " 'Toronto Raptors': 'TOR',\n",
    " 'Utah Jazz': 'UTA',\n",
    " 'Washington Wizards': 'WAS'}\n",
    "\n",
    "acronym_to_team = {'ATL': 'Atlanta Hawks',\n",
    " 'BOS': 'Boston Celtics',\n",
    " 'BRK': 'Brooklyn Nets',\n",
    " 'NJN': 'New jersey Nets',\n",
    " 'CHI': 'Chicago Bulls',\n",
    " 'CHO': 'Charlotte Hornets (2014-present)',\n",
    " 'CHA': 'Charlotte Bobcats',\n",
    " 'CLE': 'Cleveland Cavaliers',\n",
    " 'DAL': 'Dallas Mavericks',\n",
    " 'DEN': 'Denver Nuggets',\n",
    " 'DET': 'Detroit Pistons',\n",
    " 'GSW': 'Golden State Warriors',\n",
    " 'HOU': 'Houston Rockets',\n",
    " 'IND': 'Indiana Pacers',\n",
    " 'LAC': 'Los Angeles Clippers',\n",
    " 'LAL': 'Los Angeles Lakers',\n",
    " 'MEM': 'Memphis Grizzlies',\n",
    " 'MIA': 'Miami Heat',\n",
    " 'MIL': 'Milwaukee Bucks',\n",
    " 'MIN': 'Minnesota Timberwolves',\n",
    " 'NOP': 'New Orleans Pelicans',\n",
    " 'NOJ': 'New Orleans Pelicans',\n",
    " 'NYK': 'New York Knicks',\n",
    " 'OKC': 'Oklahoma City Thunder',\n",
    " 'ORL': 'Orlando Magic',\n",
    " 'PHI': 'Philadelphia 76ers',\n",
    " 'PHO': 'Phoenix Suns',\n",
    " 'POR': 'Portland Trail Blazers',\n",
    " 'SAC': 'Sacramento Kings',\n",
    " 'SAS': 'San Antonio Spurs',\n",
    " 'TOR': 'Toronto Raptors',\n",
    " 'UTA': 'Utah Jazz',\n",
    " 'WAS': 'Washington Wizards'}"
   ]
  },
  {
   "cell_type": "code",
   "execution_count": null,
   "metadata": {
    "scrolled": true
   },
   "outputs": [],
   "source": [
    "def basketball_data_generator():\n",
    "    \"\"\" Uses API that connect to SportsReference.com to gather information related to NBA (basketball) team attendance. Note that this API\n",
    "        only has average attendance so generalizations were made from an entire season to a single game\n",
    "    \n",
    "    Output: basketball_games_df: DataFrame of NBA game by game matchups, scores, and attendance\n",
    "    \"\"\"\n",
    "\n",
    "    basketball_games_df = pd.DataFrame()   # DataFrame that will hold data\n",
    "    start_year = 2010\n",
    "    end_year = 2021\n",
    "\n",
    "    for year in range(start_year, end_year+1):   # Iterating through desired years\n",
    "        \n",
    "        # Adding generic information\n",
    "        game_data['Sport'] = 'Basketball'\n",
    "        game_data['League'] = 'NBA'\n",
    "        game_data['Season'] = year\n",
    "        \n",
    "        # Accessing API through basketball_reference_scraper library\n",
    "        game_data = get_schedule(year)\n",
    "\n",
    "        # Adding game-by-game information\n",
    "        game_data.rename(columns={'DATE': 'Date', 'HOME': 'Home_Team', 'VISITOR': 'Away_Team',   # Renaming columns to names used in final DataFrame\n",
    "                                  'HOME_PTS': 'Home_Team_Score', 'VISITOR_PTS': 'Away_Team_Score'},inplace=True)\n",
    "        game_data['Winner'] = game_data.apply(lambda x: 'Home' if x['Home_Team_Score'] > x['Away_Team_Score'] \n",
    "                                                               else 'Away' if x['Home_Team_Score'] < x['Away_Team_Score'] else 'Tie', axis=1)\n",
    "        game_data['Home_Team_Won'] = game_data.apply(lambda x: 1 if x['Winner'] == 'Home' else 0, axis=1)\n",
    "\n",
    "        for team in acronym_to_team.keys():    # Going through all teams in the league to gather attendance information\n",
    "            try:\n",
    "                attendance_pg = get_team_misc(team, year)['ATTENDANCE/G']\n",
    "                game_data.loc[game_data['Home_Team']==acronym_to_team[team], 'Attendance'] = attendance_pg\n",
    "            except:\n",
    "                continue\n",
    "\n",
    "        game_data = game_data[['Sport', 'League', 'Date', 'Season', 'Home_Team', 'Away_Team', 'Home_Team_Score', 'Away_Team_Score', 'Winner', 'Home_Team_Won', 'Attendance']]\n",
    "        basketball_games_df = basketball_games_df.append(game_data)\n",
    "        basketball_games_df.drop_duplicates(inplace=True)\n",
    "\n",
    "    # Accounting for nulls in attendance (no fans) and teams changing names over the years\n",
    "    basketball_games_df['Attendance'].replace(np.nan, 0, regex=True, inplace=True)\n",
    "    basketball_games_df['Home_Team'].replace('New Jersey Nets', 'Brooklyn Nets', regex=True, inplace=True)\n",
    "    basketball_games_df['Away_Team'].replace('New Jersey Nets', 'Brooklyn Nets', regex=True, inplace=True)\n",
    "    basketball_games_df['Home_Team'].replace('Charlotte Bobcats', 'Charlotte Hornets', regex=True, inplace=True)\n",
    "    basketball_games_df['Away_Team'].replace('Charlotte Bobcats', 'Charlotte Hornets', regex=True, inplace=True)\n",
    "    basketball_games_df['Home_Team'].replace('Charlotte Hornets (2014-present)', 'Charlotte Hornets', regex=True, inplace=True)\n",
    "    basketball_games_df['Away_Team'].replace('Charlotte Hornets (2014-present)', 'Charlotte Hornets', regex=True, inplace=True)\n",
    "    basketball_games_df['Home_Team'].replace('New Orleans Hornets', 'New Orleans Pelicans', regex=True, inplace=True)\n",
    "    basketball_games_df['Away_Team'].replace('New Orleans Hornets', 'New Orleans Pelicans', regex=True, inplace=True)\n",
    "    basketball_games_df.dropna(inplace=True)\n",
    "\n",
    "    return basketball_games_df"
   ]
  },
  {
   "cell_type": "markdown",
   "metadata": {},
   "source": [
    "## Writing Data to CSV"
   ]
  },
  {
   "cell_type": "code",
   "execution_count": null,
   "metadata": {
    "scrolled": true
   },
   "outputs": [],
   "source": [
    "basketball_games_df.to_csv(\"C:\\\\Users\\\\Jack\\\\OneDrive\\\\Documents\\\\basketball_data.csv\", index=False)"
   ]
  },
  {
   "cell_type": "markdown",
   "metadata": {},
   "source": [
    "# Baseball"
   ]
  },
  {
   "cell_type": "markdown",
   "metadata": {},
   "source": [
    "## Imports"
   ]
  },
  {
   "cell_type": "code",
   "execution_count": null,
   "metadata": {},
   "outputs": [],
   "source": [
    "from baseball_scraper import baseball_reference"
   ]
  },
  {
   "cell_type": "markdown",
   "metadata": {},
   "source": [
    "## Gathering Data"
   ]
  },
  {
   "cell_type": "code",
   "execution_count": null,
   "metadata": {
    "code_folding": [
     2,
     33
    ]
   },
   "outputs": [],
   "source": [
    "# Dicts that will be used to go between team names and acronyms. Useful for the API being used\n",
    "\n",
    "acronym_to_city_dict = {'ATL': 'Atlanta',\n",
    "                        'WSN': 'Washington',\n",
    "                        'NYM': 'New York Mets',\n",
    "                        'PHI': 'Philadelphia',\n",
    "                        'MIA': 'Miami',\n",
    "                        'FLA': 'Miami',     # Changed name in 2012\n",
    "                        'STL': 'St. Louis',\n",
    "                        'MIL': 'Milwaukee',\n",
    "                        'CHC': 'Chicago Cubs',\n",
    "                        'CIN': 'Cincinnati',\n",
    "                        'PIT': 'Pittsburgh',\n",
    "                        'LAD': 'Los Angeles Dodgers',\n",
    "                        'ARI': 'Arizona',\n",
    "                        'SFG': 'San Francisco',\n",
    "                        'COL': 'Colorado',\n",
    "                        'SDP': 'San Diego',\n",
    "                        'NYY': 'New York Yankees',\n",
    "                        'TBR': 'Tampa Bay',\n",
    "                        'BOS': 'Boston',\n",
    "                        'TOR': 'Toronto',\n",
    "                        'BAL': 'Baltimore',\n",
    "                        'MIN': 'Minnesota',\n",
    "                        'CLE': 'Cleveland',\n",
    "                        'CHW': 'Chicago White Sox',\n",
    "                        'KCR': 'Kansas City',\n",
    "                        'DET': 'Detroit',\n",
    "                        'HOU': 'Houston',\n",
    "                        'OAK': 'Oakland',\n",
    "                        'TEX': 'Texas',\n",
    "                        'LAA': 'Los Angeles Angels',\n",
    "                        'SEA': 'Seattle'}\n",
    "nickname_to_city_dict = {'braves': 'Atlanta',\n",
    "                        'nationals': 'Washington',\n",
    "                        'mets': 'New York Mets',\n",
    "                        'phillies': 'Philadelphia',\n",
    "                        'marlins': 'Miami',\n",
    "                        'cardinals': 'St. Louis',\n",
    "                        'brewers': 'Milwaukee',\n",
    "                        'cubs': 'Chicago Cubs',\n",
    "                        'reds': 'Cincinnati',\n",
    "                        'pirates': 'Pittsburgh',\n",
    "                        'dodgers': 'Los Angeles Dodgers',\n",
    "                        'diamondbacks': 'Arizona',\n",
    "                        'd-backs': 'Arizona',\n",
    "                        'giants': 'San Francisco',\n",
    "                        'rockies': 'Colorado',\n",
    "                        'padres': 'San Diego',\n",
    "                        'yankees': 'New York Yankees',\n",
    "                        'rays': 'Tampa Bay',\n",
    "                        'red sox': 'Boston',\n",
    "                        'blue jays': 'Toronto',\n",
    "                        'orioles': 'Baltimore',\n",
    "                        'twins': 'Minnesota',\n",
    "                        'indians': 'Cleveland',\n",
    "                        'white sox': 'Chicago White Sox',\n",
    "                        'royals': 'Kansas City',\n",
    "                        'tigers': 'Detroit',\n",
    "                        'astros': 'Houston',\n",
    "                        'athletics': 'Oakland',\n",
    "                        'rangers': 'Texas',\n",
    "                        'angels': 'Los Angeles Angels',\n",
    "                        'mariners': 'Seattle'}"
   ]
  },
  {
   "cell_type": "code",
   "execution_count": null,
   "metadata": {
    "code_folding": [
     0
    ]
   },
   "outputs": [],
   "source": [
    "def baseball_data_generator():\n",
    "    \"\"\" Uses API that connects to SportsReference.com to gather information related to MLB (baseball) team attendance. \n",
    "    \n",
    "    Output: baseball_games_df: DataFrame of MLB game by game matchups, scores, and attendance\n",
    "    \"\"\"\n",
    "\n",
    "\n",
    "    s = baseball_reference.TeamScraper()  # calling the API's scraping tool\n",
    "    baseball_games_df = pd.DataFrame()    # DataFrame that will hold data\n",
    "    start_year = 2010\n",
    "    end_year = 2021\n",
    "\n",
    "    for year in range(start_year, end_year+1):  # Iterating through desired years\n",
    "\n",
    "        # Adding generic information\n",
    "        game_data['Sport'] = 'Baseball'\n",
    "        game_data['League'] = 'MLB'\n",
    "        game_data['Season'] = year\n",
    "\n",
    "\n",
    "        # Accessing API through basketball_reference_scraper library\n",
    "        s.set_season(year)  # Calling API for a given year  \n",
    "\n",
    "        for team in acronym_to_city_dict.keys():  # Scraping data for all teams\n",
    "\n",
    "            try:   \n",
    "                game_data = s.scrape(team)\n",
    "                game_data['Home_Team'] = game_data.apply(lambda x: acronym_to_city_dict[x['Opp']] if x['Home_Away'] == '@' else acronym_to_city_dict[x['Tm']], axis=1)\n",
    "                game_data['Home_Team_Score'] = game_data.apply(lambda x: x['RA'] if x['Home_Away'] == '@' else x['R'], axis=1)\n",
    "                game_data['Away_Team'] = game_data.apply(lambda x: acronym_to_city_dict[x['Opp']] if x['Home_Away'] == 'Home' else acronym_to_city_dict[x['Tm']], axis=1)\n",
    "                game_data['Away_Team_Score'] = game_data.apply(lambda x: x['RA'] if x['Home_Away'] == 'Home' else x['R'], axis=1)\n",
    "                game_data['Winner'] = game_data.apply(lambda x: 'Home' if x['Home_Team_Score'] > x['Away_Team_Score'] else 'Away' if x['Home_Team_Score'] < x['Away_Team_Score'] else 'Tie', axis=1)\n",
    "                game_data['Home_Team_Won'] = game_data.apply(lambda x: 1 if x['Winner'] == 'Home' else 0, axis=1)\n",
    "                game_data = game_data[['Sport', 'League', 'Date', 'Home_Team', 'Away_Team', 'Home_Team_Score', 'Away_Team_Score', 'Winner', 'Home_Team_Won', 'Attendance']]\n",
    "                baseball_games_df = baseball_games_df.append(game_data)\n",
    "                baseball_games_df.drop_duplicates(inplace=True)\n",
    "            except:\n",
    "                continue\n",
    "\n",
    "    # Accounting for nulls in attendance (no fans) and teams changing names over the years\n",
    "    baseball_games_df['Attendance'].replace(np.nan, 0, regex=True, inplace=True)        \n",
    "    baseball_games_df['Home_Team'].replace('FLA', 'MIA', regex=True, inplace=True)\n",
    "    baseball_games_df['Away_Team'].replace('FLA', 'MIA', regex=True, inplace=True)\n",
    "    baseball_games_df.dropna(inplace=True)\n",
    "\n",
    "    return baseball_games_df"
   ]
  },
  {
   "cell_type": "markdown",
   "metadata": {},
   "source": [
    "## Writing Data to CSV"
   ]
  },
  {
   "cell_type": "code",
   "execution_count": null,
   "metadata": {},
   "outputs": [],
   "source": [
    "baseball_games_df.to_csv(\"C:\\\\Users\\\\Jack\\\\OneDrive\\\\Documents\\\\baseball_data.csv\", index=False)"
   ]
  },
  {
   "cell_type": "markdown",
   "metadata": {},
   "source": [
    "# American Football. Data is loaded here and Joined in SQL"
   ]
  },
  {
   "cell_type": "markdown",
   "metadata": {},
   "source": [
    "## Loading in files from GITHUB with Data"
   ]
  },
  {
   "cell_type": "code",
   "execution_count": null,
   "metadata": {},
   "outputs": [],
   "source": [
    "attendance = pd.read_csv('https://raw.githubusercontent.com/rfordatascience/tidytuesday/master/data/2020/2020-02-04/attendance.csv')\n",
    "standings = pd.read_csv('https://raw.githubusercontent.com/rfordatascience/tidytuesday/master/data/2020/2020-02-04/standings.csv')\n",
    "games = pd.read_csv('https://raw.githubusercontent.com/rfordatascience/tidytuesday/master/data/2020/2020-02-04/games.csv')\n",
    "\n",
    "games.head()"
   ]
  },
  {
   "cell_type": "markdown",
   "metadata": {},
   "source": [
    "## Formatting dates to traditional mm/dd/yyy format"
   ]
  },
  {
   "cell_type": "code",
   "execution_count": null,
   "metadata": {},
   "outputs": [],
   "source": [
    "games['date'] = games.apply(lambda x: datetime.strptime(x['date'].split()[0]+'/'+str(x['date'].split()[1])+'/'+str(x['year']), '%B/%d/%Y'), axis=1)"
   ]
  },
  {
   "cell_type": "markdown",
   "metadata": {},
   "source": [
    "## Updating home teams in attendance data to match format from games DataFrame"
   ]
  },
  {
   "cell_type": "code",
   "execution_count": null,
   "metadata": {},
   "outputs": [],
   "source": [
    "attendance.rename(columns={\"home\": 'home_team'}, inplace=True)\n",
    "attendance['home_team'] = attendance.apply(lambda x: x['team'] + ' ' + x['team_name'], axis=1)\n",
    "attendance.head()"
   ]
  },
  {
   "cell_type": "markdown",
   "metadata": {},
   "source": [
    "## Writing Data to CSV"
   ]
  },
  {
   "cell_type": "code",
   "execution_count": null,
   "metadata": {},
   "outputs": [],
   "source": [
    "attendance.to_csv(\"C:\\\\Users\\\\Jack\\\\OneDrive\\\\Documents\\\\nfl_attendance.csv\", index=False)\n",
    "games.to_csv(\"C:\\\\Users\\\\Jack\\\\OneDrive\\\\Documents\\\\nfl_games.csv\", index=False)"
   ]
  },
  {
   "cell_type": "markdown",
   "metadata": {},
   "source": [
    "# Combining Sports"
   ]
  },
  {
   "cell_type": "markdown",
   "metadata": {},
   "source": [
    "## Gathering CSV's"
   ]
  },
  {
   "cell_type": "code",
   "execution_count": null,
   "metadata": {},
   "outputs": [],
   "source": [
    "baseball = pd.read_csv(\"C:\\\\Users\\\\Jack\\\\OneDrive\\\\Documents\\\\baseball_data.csv\")\n",
    "basketball = pd.read_csv(\"C:\\\\Users\\\\Jack\\\\OneDrive\\\\Documents\\\\basketball_data.csv\")\n",
    "soccer = pd.read_csv(\"C:\\\\Users\\\\Jack\\\\OneDrive\\\\Documents\\\\soccer_data.csv\") # Soccer data pulled directly from SportsReference.com\n",
    "football = pd.read_csv(\"C:\\\\Users\\\\Jack\\\\OneDrive\\\\Documents\\\\american_football_data.csv\")\n",
    "hockey = pd.read_csv(\"C:\\\\Users\\\\Jack\\\\OneDrive\\\\Documents\\\\hockey_data.csv\")  # Hockey data pulled directly from SportsReference.com"
   ]
  },
  {
   "cell_type": "markdown",
   "metadata": {},
   "source": [
    "## Removing NBA games that were played in a neutral court \"bubble\""
   ]
  },
  {
   "cell_type": "code",
   "execution_count": null,
   "metadata": {},
   "outputs": [],
   "source": [
    "basketball['Date'] = pd.to_datetime(basketball['Date'])  \n",
    "basketball = basketball.loc[(basketball['Date'] < '2020-4-1') | (basketball['Date'] > '2020-11-1')]\n",
    "basketball['Date'] = basketball['Date'].apply(lambda x: x.strftime('%Y-%m-%d'))\n",
    "\n",
    "basketball.shape"
   ]
  },
  {
   "cell_type": "markdown",
   "metadata": {},
   "source": [
    "## Combining DataFrames"
   ]
  },
  {
   "cell_type": "code",
   "execution_count": null,
   "metadata": {},
   "outputs": [],
   "source": [
    "sports_df = baseball.append(basketball, ignore_index=True)\n",
    "sports_df = sports_df.append(soccer, ignore_index=True)\n",
    "sports_df = sports_df.append(football, ignore_index=True)\n",
    "sports_df = sports_df.append(hockey, ignore_index=True)\n",
    "\n",
    "sports_df.dropna(inplace=True)  # One hockey game reschedules but still in original hockey DataFrame\n",
    "\n",
    "sports_df.head()"
   ]
  },
  {
   "cell_type": "markdown",
   "metadata": {},
   "source": [
    "## Writing Data to CSV"
   ]
  },
  {
   "cell_type": "code",
   "execution_count": null,
   "metadata": {},
   "outputs": [],
   "source": [
    "sports_df.to_csv(\"C:\\\\Users\\\\Jack\\\\OneDrive\\\\Documents\\\\sports_data.csv\", index=False)"
   ]
  },
  {
   "cell_type": "markdown",
   "metadata": {},
   "source": [
    "# Statstical Tests - Proportion Test"
   ]
  },
  {
   "cell_type": "code",
   "execution_count": 26,
   "metadata": {},
   "outputs": [],
   "source": [
    "import numpy as np\n",
    "from statsmodels.stats.proportion import proportions_ztest\n",
    "sports_df = pd.read_csv(\"sports_data.csv\")"
   ]
  },
  {
   "cell_type": "markdown",
   "metadata": {},
   "source": [
    "## Baseball"
   ]
  },
  {
   "cell_type": "code",
   "execution_count": 27,
   "metadata": {},
   "outputs": [
    {
     "name": "stdout",
     "output_type": "stream",
     "text": [
      "The result is not significant with a p-value of:  0.40254184434893026 So, there is no evidence to suggest that the home teams perform differently pre and post COVID in Baseball.\n"
     ]
    }
   ],
   "source": [
    "\n",
    "# Finding the numbers home team wins in Baseball\n",
    "Baseball_pre_wins = len(sports_df.loc[(sports_df['Sport'] == 'Baseball') & (sports_df['During_COVID'] == 0) & (sports_df['Winner'] == 'Home')])\n",
    "Baseball_post_wins = len(sports_df.loc[(sports_df['Sport'] == 'Baseball') & (sports_df['During_COVID'] == 1) & (sports_df['Winner'] == 'Home')])\n",
    "\n",
    "# Finding the numbers games in Baseball\n",
    "Baseball_pre_games = len(sports_df.loc[(sports_df['Sport'] == 'Baseball') & (sports_df['During_COVID'] == 0) & (sports_df['Winner'] != 'Tie')])\n",
    "Baseball_post_games = len(sports_df.loc[(sports_df['Sport'] == 'Baseball') & (sports_df['During_COVID'] == 1) & (sports_df['Winner'] != 'Tie')])\n",
    "\n",
    "# Running Prop Test\n",
    "count = np.array([Baseball_pre_wins, Baseball_post_wins])\n",
    "nobs = np.array([Baseball_pre_games, Baseball_post_games])\n",
    "stat, pval = proportions_ztest(count, nobs)\n",
    "if pval < 0.05:\n",
    "    print(\"The result is significant with a p-value of: \", pval, \"So, there is evidence to suggest that the home teams perform differently pre and post COVID in Baseball.\")\n",
    "else:\n",
    "    print(\"The result is not significant with a p-value of: \", pval, \"So, there is no evidence to suggest that the home teams perform differently pre and post COVID in Baseball.\")"
   ]
  },
  {
   "cell_type": "markdown",
   "metadata": {},
   "source": [
    "## Basketball"
   ]
  },
  {
   "cell_type": "code",
   "execution_count": 28,
   "metadata": {},
   "outputs": [
    {
     "name": "stdout",
     "output_type": "stream",
     "text": [
      "The result is significant with a p-value of:  0.005624721621969695 So, there is evidence to suggest that the home teams perform differently pre and post COVID in Basketball.\n"
     ]
    }
   ],
   "source": [
    "# Finding the numbers home team wins in Basketball\n",
    "Basketball_pre_wins = len(sports_df.loc[(sports_df['Sport'] == 'Basketball') & (sports_df['During_COVID'] == 0) & (sports_df['Winner'] == 'Home')])\n",
    "Basketball_post_wins = len(sports_df.loc[(sports_df['Sport'] == 'Basketball') & (sports_df['During_COVID'] == 1) & (sports_df['Winner'] == 'Home')])\n",
    "\n",
    "# Finding the numbers games in Basketball\n",
    "Basketball_pre_games = len(sports_df.loc[(sports_df['Sport'] == 'Basketball') & (sports_df['During_COVID'] == 0) & (sports_df['Winner'] != 'Tie')])\n",
    "Basketball_post_games = len(sports_df.loc[(sports_df['Sport'] == 'Basketball') & (sports_df['During_COVID'] == 1) & (sports_df['Winner'] != 'Tie')])\n",
    "\n",
    "# Running Prop Test\n",
    "count = np.array([Basketball_pre_wins, Basketball_post_wins])\n",
    "nobs = np.array([Basketball_pre_games, Basketball_post_games])\n",
    "stat, pval = proportions_ztest(count, nobs)\n",
    "if pval < 0.05:\n",
    "    print(\"The result is significant with a p-value of: \", pval, \"So, there is evidence to suggest that the home teams perform differently pre and post COVID in Basketball.\")\n",
    "else:\n",
    "    print(\"The result is not significant with a p-value of: \", pval, \"So, there is no evidence to suggest that the home teams perform differently pre and post COVID in Basketball.\")"
   ]
  },
  {
   "cell_type": "markdown",
   "metadata": {},
   "source": [
    "## Soccer"
   ]
  },
  {
   "cell_type": "code",
   "execution_count": 29,
   "metadata": {},
   "outputs": [
    {
     "name": "stdout",
     "output_type": "stream",
     "text": [
      "The result is significant with a p-value of:  0.00029807234424245705 So, there is evidence to suggest that the home teams perform differently pre and post COVID in Soccer.\n"
     ]
    }
   ],
   "source": [
    "# Finding the numbers home team wins in Soccer\n",
    "Soccer_pre_wins = len(sports_df.loc[(sports_df['Sport'] == 'Soccer') & (sports_df['During_COVID'] == 0) & (sports_df['Winner'] == 'Home')])\n",
    "Soccer_post_wins = len(sports_df.loc[(sports_df['Sport'] == 'Soccer') & (sports_df['During_COVID'] == 1) & (sports_df['Winner'] == 'Home')])\n",
    "\n",
    "# Finding the numbers games in Soccer\n",
    "Soccer_pre_games = len(sports_df.loc[(sports_df['Sport'] == 'Soccer') & (sports_df['During_COVID'] == 0) & (sports_df['Winner'] != 'Tie')])\n",
    "Soccer_post_games = len(sports_df.loc[(sports_df['Sport'] == 'Soccer') & (sports_df['During_COVID'] == 1) & (sports_df['Winner'] != 'Tie')])\n",
    "\n",
    "# Running Prop Test\n",
    "count = np.array([Soccer_pre_wins, Soccer_post_wins])\n",
    "nobs = np.array([Soccer_pre_games, Soccer_post_games])\n",
    "stat, pval = proportions_ztest(count, nobs)\n",
    "if pval < 0.05:\n",
    "    print(\"The result is significant with a p-value of: \", pval, \"So, there is evidence to suggest that the home teams perform differently pre and post COVID in Soccer.\")\n",
    "else:\n",
    "    print(\"The result is not significant with a p-value of: \", pval, \"So, there is no evidence to suggest that the home teams perform differently pre and post COVID in Soccer.\")"
   ]
  },
  {
   "cell_type": "markdown",
   "metadata": {},
   "source": [
    "## American Football"
   ]
  },
  {
   "cell_type": "code",
   "execution_count": 30,
   "metadata": {},
   "outputs": [
    {
     "name": "stdout",
     "output_type": "stream",
     "text": [
      "The result is significant with a p-value of:  0.026311392086841585 So, there is evidence to suggest that the home teams perform differently pre and post COVID in American_Football.\n"
     ]
    }
   ],
   "source": [
    "# Finding the numbers home team wins in American Football\n",
    "American_Football_pre_wins = len(sports_df.loc[(sports_df['Sport'] == 'American Football') & (sports_df['During_COVID'] == 0) & (sports_df['Winner'] == 'Home')])\n",
    "American_Football_post_wins = len(sports_df.loc[(sports_df['Sport'] == 'American Football') & (sports_df['During_COVID'] == 1) & (sports_df['Winner'] == 'Home')])\n",
    "\n",
    "# Finding the numbers games in American Football\n",
    "American_Football_pre_games = len(sports_df.loc[(sports_df['Sport'] == 'American Football') & (sports_df['During_COVID'] == 0) & (sports_df['Winner'] != 'Tie')])\n",
    "American_Football_post_games = len(sports_df.loc[(sports_df['Sport'] == 'American Football') & (sports_df['During_COVID'] == 1) & (sports_df['Winner'] != 'Tie')])\n",
    "\n",
    "# Running Prop Test\n",
    "count = np.array([American_Football_pre_wins, American_Football_post_wins])\n",
    "nobs = np.array([American_Football_pre_games, American_Football_post_games])\n",
    "stat, pval = proportions_ztest(count, nobs)\n",
    "if pval < 0.05:\n",
    "    print(\"The result is significant with a p-value of: \", pval, \"So, there is evidence to suggest that the home teams perform differently pre and post COVID in American_Football.\")\n",
    "else:\n",
    "    print(\"The result is not significant with a p-value of: \", pval, \"So, there is no evidence to suggest that the home teams perform differently pre and post COVID in American_Football.\")"
   ]
  },
  {
   "cell_type": "markdown",
   "metadata": {},
   "source": [
    "## Hockey"
   ]
  },
  {
   "cell_type": "code",
   "execution_count": 31,
   "metadata": {},
   "outputs": [
    {
     "name": "stdout",
     "output_type": "stream",
     "text": [
      "The result is not significant with a p-value of:  0.1821231074123455 So, there is no evidence to suggest that the home teams perform differently pre and post COVID in Hockey.\n"
     ]
    }
   ],
   "source": [
    "# Finding the numbers home team wins in Hockey\n",
    "Hockey_pre_wins = len(sports_df.loc[(sports_df['Sport'] == 'Hockey') & (sports_df['During_COVID'] == 0) & (sports_df['Winner'] == 'Home')])\n",
    "Hockey_post_wins = len(sports_df.loc[(sports_df['Sport'] == 'Hockey') & (sports_df['During_COVID'] == 1) & (sports_df['Winner'] == 'Home')])\n",
    "\n",
    "# Finding the numbers games in Hockey\n",
    "Hockey_pre_games = len(sports_df.loc[(sports_df['Sport'] == 'Hockey') & (sports_df['During_COVID'] == 0) & (sports_df['Winner'] != 'Tie')])\n",
    "Hockey_post_games = len(sports_df.loc[(sports_df['Sport'] == 'Hockey') & (sports_df['During_COVID'] == 1) & (sports_df['Winner'] != 'Tie')])\n",
    "\n",
    "# Running Prop Test\n",
    "count = np.array([Hockey_pre_wins, Hockey_post_wins])\n",
    "nobs = np.array([Hockey_pre_games, Hockey_post_games])\n",
    "stat, pval = proportions_ztest(count, nobs)\n",
    "if pval < 0.05:\n",
    "    print(\"The result is significant with a p-value of: \", pval, \"So, there is evidence to suggest that the home teams perform differently pre and post COVID in Hockey.\")\n",
    "else:\n",
    "    print(\"The result is not significant with a p-value of: \", pval, \"So, there is no evidence to suggest that the home teams perform differently pre and post COVID in Hockey.\")"
   ]
  }
 ],
 "metadata": {
  "kernelspec": {
   "display_name": "Python 3",
   "language": "python",
   "name": "python3"
  },
  "language_info": {
   "codemirror_mode": {
    "name": "ipython",
    "version": 3
   },
   "file_extension": ".py",
   "mimetype": "text/x-python",
   "name": "python",
   "nbconvert_exporter": "python",
   "pygments_lexer": "ipython3",
   "version": "3.7.4"
  },
  "toc": {
   "base_numbering": 1,
   "nav_menu": {},
   "number_sections": true,
   "sideBar": true,
   "skip_h1_title": false,
   "title_cell": "Table of Contents",
   "title_sidebar": "Contents",
   "toc_cell": false,
   "toc_position": {},
   "toc_section_display": true,
   "toc_window_display": false
  },
  "varInspector": {
   "cols": {
    "lenName": 16,
    "lenType": 16,
    "lenVar": 40
   },
   "kernels_config": {
    "python": {
     "delete_cmd_postfix": "",
     "delete_cmd_prefix": "del ",
     "library": "var_list.py",
     "varRefreshCmd": "print(var_dic_list())"
    },
    "r": {
     "delete_cmd_postfix": ") ",
     "delete_cmd_prefix": "rm(",
     "library": "var_list.r",
     "varRefreshCmd": "cat(var_dic_list()) "
    }
   },
   "types_to_exclude": [
    "module",
    "function",
    "builtin_function_or_method",
    "instance",
    "_Feature"
   ],
   "window_display": false
  }
 },
 "nbformat": 4,
 "nbformat_minor": 4
}
